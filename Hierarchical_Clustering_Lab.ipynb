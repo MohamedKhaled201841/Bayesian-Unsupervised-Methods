{
  "nbformat": 4,
  "nbformat_minor": 0,
  "metadata": {
    "kernelspec": {
      "display_name": "Python 3",
      "language": "python",
      "name": "python3"
    },
    "language_info": {
      "codemirror_mode": {
        "name": "ipython",
        "version": 3
      },
      "file_extension": ".py",
      "mimetype": "text/x-python",
      "name": "python",
      "nbconvert_exporter": "python",
      "pygments_lexer": "ipython3",
      "version": "3.7.6"
    },
    "colab": {
      "name": "Hierarchical Clustering_Lab.ipynb",
      "provenance": []
    }
  },
  "cells": [
    {
      "cell_type": "markdown",
      "metadata": {
        "id": "X1I1wCBOHS52"
      },
      "source": [
        "# <a name=\"0\">Hierarchical Clustering</a>"
      ]
    },
    {
      "cell_type": "markdown",
      "metadata": {
        "id": "p28F3yn8HS6S"
      },
      "source": [
        "1. <a href=\"#1\">Read the dataset</a>\n",
        "2. <a href=\"#2\">Data investigation</a>\n",
        "3. <a href=\"#3\">Data preprocessing </a>\n",
        "4. <a href=\"#4\">Features transformation </a>\n",
        "4. <a href=\"#5\">Training datasets</a>\n",
        "5. <a href=\"#6\">Improvement ideas</a>\n",
        "\n"
      ]
    },
    {
      "cell_type": "code",
      "metadata": {
        "id": "BWO8W_yUHS6W"
      },
      "source": [
        "import pandas as pd\n",
        "import numpy as np\n",
        "import matplotlib.pyplot as plt\n",
        "import warnings\n",
        "warnings.filterwarnings(\"ignore\")"
      ],
      "execution_count": 123,
      "outputs": []
    },
    {
      "cell_type": "markdown",
      "metadata": {
        "id": "c3fUPZeBHS6d"
      },
      "source": [
        "## 1. <a name=\"1\">Read the dataset</a>\n",
        "(<a href=\"#0\">Go to top</a>)\n",
        "\n",
        "First dowmload the data set from this link https://www.kaggle.com/fernandol/countries-of-the-world\n",
        "then import it in python."
      ]
    },
    {
      "cell_type": "code",
      "metadata": {
        "colab": {
          "base_uri": "https://localhost:8080/",
          "height": 411
        },
        "id": "V7i8NBehHS6g",
        "outputId": "c0199115-e9d3-4971-96a2-94ed63083c95"
      },
      "source": [
        "#read the data\n",
        "\n",
        "data_path = '/content/countries of the world.csv'  #the path where you downloaded the data\n",
        "df = pd.read_csv(data_path)\n",
        "\n",
        "print('The shape of the dataset is:', df.shape)\n",
        "df.head()"
      ],
      "execution_count": 124,
      "outputs": [
        {
          "output_type": "stream",
          "name": "stdout",
          "text": [
            "The shape of the dataset is: (227, 20)\n"
          ]
        },
        {
          "output_type": "execute_result",
          "data": {
            "text/html": [
              "<div>\n",
              "<style scoped>\n",
              "    .dataframe tbody tr th:only-of-type {\n",
              "        vertical-align: middle;\n",
              "    }\n",
              "\n",
              "    .dataframe tbody tr th {\n",
              "        vertical-align: top;\n",
              "    }\n",
              "\n",
              "    .dataframe thead th {\n",
              "        text-align: right;\n",
              "    }\n",
              "</style>\n",
              "<table border=\"1\" class=\"dataframe\">\n",
              "  <thead>\n",
              "    <tr style=\"text-align: right;\">\n",
              "      <th></th>\n",
              "      <th>Country</th>\n",
              "      <th>Region</th>\n",
              "      <th>Population</th>\n",
              "      <th>Area (sq. mi.)</th>\n",
              "      <th>Pop. Density (per sq. mi.)</th>\n",
              "      <th>Coastline (coast/area ratio)</th>\n",
              "      <th>Net migration</th>\n",
              "      <th>Infant mortality (per 1000 births)</th>\n",
              "      <th>GDP ($ per capita)</th>\n",
              "      <th>Literacy (%)</th>\n",
              "      <th>Phones (per 1000)</th>\n",
              "      <th>Arable (%)</th>\n",
              "      <th>Crops (%)</th>\n",
              "      <th>Other (%)</th>\n",
              "      <th>Climate</th>\n",
              "      <th>Birthrate</th>\n",
              "      <th>Deathrate</th>\n",
              "      <th>Agriculture</th>\n",
              "      <th>Industry</th>\n",
              "      <th>Service</th>\n",
              "    </tr>\n",
              "  </thead>\n",
              "  <tbody>\n",
              "    <tr>\n",
              "      <th>0</th>\n",
              "      <td>Afghanistan</td>\n",
              "      <td>ASIA (EX. NEAR EAST)</td>\n",
              "      <td>31056997</td>\n",
              "      <td>647500</td>\n",
              "      <td>48,0</td>\n",
              "      <td>0,00</td>\n",
              "      <td>23,06</td>\n",
              "      <td>163,07</td>\n",
              "      <td>700.0</td>\n",
              "      <td>36,0</td>\n",
              "      <td>3,2</td>\n",
              "      <td>12,13</td>\n",
              "      <td>0,22</td>\n",
              "      <td>87,65</td>\n",
              "      <td>1</td>\n",
              "      <td>46,6</td>\n",
              "      <td>20,34</td>\n",
              "      <td>0,38</td>\n",
              "      <td>0,24</td>\n",
              "      <td>0,38</td>\n",
              "    </tr>\n",
              "    <tr>\n",
              "      <th>1</th>\n",
              "      <td>Albania</td>\n",
              "      <td>EASTERN EUROPE</td>\n",
              "      <td>3581655</td>\n",
              "      <td>28748</td>\n",
              "      <td>124,6</td>\n",
              "      <td>1,26</td>\n",
              "      <td>-4,93</td>\n",
              "      <td>21,52</td>\n",
              "      <td>4500.0</td>\n",
              "      <td>86,5</td>\n",
              "      <td>71,2</td>\n",
              "      <td>21,09</td>\n",
              "      <td>4,42</td>\n",
              "      <td>74,49</td>\n",
              "      <td>3</td>\n",
              "      <td>15,11</td>\n",
              "      <td>5,22</td>\n",
              "      <td>0,232</td>\n",
              "      <td>0,188</td>\n",
              "      <td>0,579</td>\n",
              "    </tr>\n",
              "    <tr>\n",
              "      <th>2</th>\n",
              "      <td>Algeria</td>\n",
              "      <td>NORTHERN AFRICA</td>\n",
              "      <td>32930091</td>\n",
              "      <td>2381740</td>\n",
              "      <td>13,8</td>\n",
              "      <td>0,04</td>\n",
              "      <td>-0,39</td>\n",
              "      <td>31</td>\n",
              "      <td>6000.0</td>\n",
              "      <td>70,0</td>\n",
              "      <td>78,1</td>\n",
              "      <td>3,22</td>\n",
              "      <td>0,25</td>\n",
              "      <td>96,53</td>\n",
              "      <td>1</td>\n",
              "      <td>17,14</td>\n",
              "      <td>4,61</td>\n",
              "      <td>0,101</td>\n",
              "      <td>0,6</td>\n",
              "      <td>0,298</td>\n",
              "    </tr>\n",
              "    <tr>\n",
              "      <th>3</th>\n",
              "      <td>American Samoa</td>\n",
              "      <td>OCEANIA</td>\n",
              "      <td>57794</td>\n",
              "      <td>199</td>\n",
              "      <td>290,4</td>\n",
              "      <td>58,29</td>\n",
              "      <td>-20,71</td>\n",
              "      <td>9,27</td>\n",
              "      <td>8000.0</td>\n",
              "      <td>97,0</td>\n",
              "      <td>259,5</td>\n",
              "      <td>10</td>\n",
              "      <td>15</td>\n",
              "      <td>75</td>\n",
              "      <td>2</td>\n",
              "      <td>22,46</td>\n",
              "      <td>3,27</td>\n",
              "      <td>NaN</td>\n",
              "      <td>NaN</td>\n",
              "      <td>NaN</td>\n",
              "    </tr>\n",
              "    <tr>\n",
              "      <th>4</th>\n",
              "      <td>Andorra</td>\n",
              "      <td>WESTERN EUROPE</td>\n",
              "      <td>71201</td>\n",
              "      <td>468</td>\n",
              "      <td>152,1</td>\n",
              "      <td>0,00</td>\n",
              "      <td>6,6</td>\n",
              "      <td>4,05</td>\n",
              "      <td>19000.0</td>\n",
              "      <td>100,0</td>\n",
              "      <td>497,2</td>\n",
              "      <td>2,22</td>\n",
              "      <td>0</td>\n",
              "      <td>97,78</td>\n",
              "      <td>3</td>\n",
              "      <td>8,71</td>\n",
              "      <td>6,25</td>\n",
              "      <td>NaN</td>\n",
              "      <td>NaN</td>\n",
              "      <td>NaN</td>\n",
              "    </tr>\n",
              "  </tbody>\n",
              "</table>\n",
              "</div>"
            ],
            "text/plain": [
              "           Country                               Region  ...  Industry  Service\n",
              "0     Afghanistan         ASIA (EX. NEAR EAST)           ...      0,24     0,38\n",
              "1         Albania   EASTERN EUROPE                       ...     0,188    0,579\n",
              "2         Algeria   NORTHERN AFRICA                      ...       0,6    0,298\n",
              "3  American Samoa   OCEANIA                              ...       NaN      NaN\n",
              "4         Andorra   WESTERN EUROPE                       ...       NaN      NaN\n",
              "\n",
              "[5 rows x 20 columns]"
            ]
          },
          "metadata": {},
          "execution_count": 124
        }
      ]
    },
    {
      "cell_type": "markdown",
      "metadata": {
        "id": "oTPXmmLyHS6i"
      },
      "source": [
        "## 2. <a name=\"2\">Data investigation</a>\n",
        "(<a href=\"#0\">Go to top</a>)\n",
        "\n",
        "in this part you need to check the data quality and assess any issues in the data as:\n",
        "- null values in each column \n",
        "- each column has the proper data type\n",
        "- outliers\n",
        "- duplicate rows\n",
        "- distribution for each column (skewness)\n",
        "<br>\n",
        "\n",
        "**comment each issue you find** "
      ]
    },
    {
      "cell_type": "code",
      "metadata": {
        "colab": {
          "base_uri": "https://localhost:8080/"
        },
        "id": "5AONtAA2HS6k",
        "outputId": "465e242d-59a2-4fbe-913a-62fb93810e17"
      },
      "source": [
        "# Let's see the data types and non-null values for each column\n",
        "df.info()\n"
      ],
      "execution_count": 125,
      "outputs": [
        {
          "output_type": "stream",
          "name": "stdout",
          "text": [
            "<class 'pandas.core.frame.DataFrame'>\n",
            "RangeIndex: 227 entries, 0 to 226\n",
            "Data columns (total 20 columns):\n",
            " #   Column                              Non-Null Count  Dtype  \n",
            "---  ------                              --------------  -----  \n",
            " 0   Country                             227 non-null    object \n",
            " 1   Region                              227 non-null    object \n",
            " 2   Population                          227 non-null    int64  \n",
            " 3   Area (sq. mi.)                      227 non-null    int64  \n",
            " 4   Pop. Density (per sq. mi.)          227 non-null    object \n",
            " 5   Coastline (coast/area ratio)        227 non-null    object \n",
            " 6   Net migration                       224 non-null    object \n",
            " 7   Infant mortality (per 1000 births)  224 non-null    object \n",
            " 8   GDP ($ per capita)                  226 non-null    float64\n",
            " 9   Literacy (%)                        209 non-null    object \n",
            " 10  Phones (per 1000)                   223 non-null    object \n",
            " 11  Arable (%)                          225 non-null    object \n",
            " 12  Crops (%)                           225 non-null    object \n",
            " 13  Other (%)                           225 non-null    object \n",
            " 14  Climate                             205 non-null    object \n",
            " 15  Birthrate                           224 non-null    object \n",
            " 16  Deathrate                           223 non-null    object \n",
            " 17  Agriculture                         212 non-null    object \n",
            " 18  Industry                            211 non-null    object \n",
            " 19  Service                             212 non-null    object \n",
            "dtypes: float64(1), int64(2), object(17)\n",
            "memory usage: 35.6+ KB\n"
          ]
        }
      ]
    },
    {
      "cell_type": "code",
      "metadata": {
        "colab": {
          "base_uri": "https://localhost:8080/"
        },
        "id": "uW-WV-85HS6l",
        "outputId": "27f107a2-24c2-4620-85d3-cd6614deac73"
      },
      "source": [
        "round(df.isnull().sum(axis=0)*100/df.shape[0],2)\n"
      ],
      "execution_count": 13,
      "outputs": [
        {
          "output_type": "execute_result",
          "data": {
            "text/plain": [
              "Country                               0.00\n",
              "Region                                0.00\n",
              "Population                            0.00\n",
              "Area (sq. mi.)                        0.00\n",
              "Pop. Density (per sq. mi.)            0.00\n",
              "Coastline (coast/area ratio)          0.00\n",
              "Net migration                         1.32\n",
              "Infant mortality (per 1000 births)    1.32\n",
              "GDP ($ per capita)                    0.44\n",
              "Literacy (%)                          7.93\n",
              "Phones (per 1000)                     1.76\n",
              "Arable (%)                            0.88\n",
              "Crops (%)                             0.88\n",
              "Other (%)                             0.88\n",
              "Climate                               9.69\n",
              "Birthrate                             1.32\n",
              "Deathrate                             1.76\n",
              "Agriculture                           6.61\n",
              "Industry                              7.05\n",
              "Service                               6.61\n",
              "dtype: float64"
            ]
          },
          "metadata": {},
          "execution_count": 13
        }
      ]
    },
    {
      "cell_type": "code",
      "metadata": {
        "id": "CNEhEQZD0ddg"
      },
      "source": [
        ""
      ],
      "execution_count": 126,
      "outputs": []
    },
    {
      "cell_type": "code",
      "metadata": {
        "colab": {
          "base_uri": "https://localhost:8080/",
          "height": 297
        },
        "id": "_S4nE1GLHS6n",
        "outputId": "ba4e63be-c771-4f0b-bf24-d1070582c396"
      },
      "source": [
        "# This will print basic statistics for numerical columns\n",
        "df.describe()\n"
      ],
      "execution_count": 127,
      "outputs": [
        {
          "output_type": "execute_result",
          "data": {
            "text/html": [
              "<div>\n",
              "<style scoped>\n",
              "    .dataframe tbody tr th:only-of-type {\n",
              "        vertical-align: middle;\n",
              "    }\n",
              "\n",
              "    .dataframe tbody tr th {\n",
              "        vertical-align: top;\n",
              "    }\n",
              "\n",
              "    .dataframe thead th {\n",
              "        text-align: right;\n",
              "    }\n",
              "</style>\n",
              "<table border=\"1\" class=\"dataframe\">\n",
              "  <thead>\n",
              "    <tr style=\"text-align: right;\">\n",
              "      <th></th>\n",
              "      <th>Population</th>\n",
              "      <th>Area (sq. mi.)</th>\n",
              "      <th>GDP ($ per capita)</th>\n",
              "    </tr>\n",
              "  </thead>\n",
              "  <tbody>\n",
              "    <tr>\n",
              "      <th>count</th>\n",
              "      <td>2.270000e+02</td>\n",
              "      <td>2.270000e+02</td>\n",
              "      <td>226.000000</td>\n",
              "    </tr>\n",
              "    <tr>\n",
              "      <th>mean</th>\n",
              "      <td>2.874028e+07</td>\n",
              "      <td>5.982270e+05</td>\n",
              "      <td>9689.823009</td>\n",
              "    </tr>\n",
              "    <tr>\n",
              "      <th>std</th>\n",
              "      <td>1.178913e+08</td>\n",
              "      <td>1.790282e+06</td>\n",
              "      <td>10049.138513</td>\n",
              "    </tr>\n",
              "    <tr>\n",
              "      <th>min</th>\n",
              "      <td>7.026000e+03</td>\n",
              "      <td>2.000000e+00</td>\n",
              "      <td>500.000000</td>\n",
              "    </tr>\n",
              "    <tr>\n",
              "      <th>25%</th>\n",
              "      <td>4.376240e+05</td>\n",
              "      <td>4.647500e+03</td>\n",
              "      <td>1900.000000</td>\n",
              "    </tr>\n",
              "    <tr>\n",
              "      <th>50%</th>\n",
              "      <td>4.786994e+06</td>\n",
              "      <td>8.660000e+04</td>\n",
              "      <td>5550.000000</td>\n",
              "    </tr>\n",
              "    <tr>\n",
              "      <th>75%</th>\n",
              "      <td>1.749777e+07</td>\n",
              "      <td>4.418110e+05</td>\n",
              "      <td>15700.000000</td>\n",
              "    </tr>\n",
              "    <tr>\n",
              "      <th>max</th>\n",
              "      <td>1.313974e+09</td>\n",
              "      <td>1.707520e+07</td>\n",
              "      <td>55100.000000</td>\n",
              "    </tr>\n",
              "  </tbody>\n",
              "</table>\n",
              "</div>"
            ],
            "text/plain": [
              "         Population  Area (sq. mi.)  GDP ($ per capita)\n",
              "count  2.270000e+02    2.270000e+02          226.000000\n",
              "mean   2.874028e+07    5.982270e+05         9689.823009\n",
              "std    1.178913e+08    1.790282e+06        10049.138513\n",
              "min    7.026000e+03    2.000000e+00          500.000000\n",
              "25%    4.376240e+05    4.647500e+03         1900.000000\n",
              "50%    4.786994e+06    8.660000e+04         5550.000000\n",
              "75%    1.749777e+07    4.418110e+05        15700.000000\n",
              "max    1.313974e+09    1.707520e+07        55100.000000"
            ]
          },
          "metadata": {},
          "execution_count": 127
        }
      ]
    },
    {
      "cell_type": "markdown",
      "metadata": {
        "id": "Mu3blGoKHS6o"
      },
      "source": [
        "## 3. <a name=\"3\">Data preprocessing</a>\n",
        "(<a href=\"#0\">Go to top</a>)\n"
      ]
    },
    {
      "cell_type": "markdown",
      "metadata": {
        "id": "HFn5hF7THS6q"
      },
      "source": [
        "### Define below all the issues that you had found in the previous part\n",
        "1-data type            <br>\n",
        "2-null values           <br>\n",
        "         <br>"
      ]
    },
    {
      "cell_type": "code",
      "metadata": {
        "id": "tGJ7UYBxHS6r"
      },
      "source": [
        "#make a copy for the original dataset\n",
        "df_copy=df.copy()\n"
      ],
      "execution_count": 128,
      "outputs": []
    },
    {
      "cell_type": "markdown",
      "metadata": {
        "id": "ywvu0FwCHS6t"
      },
      "source": [
        "### for each issue adapt this methodology \n",
        "- start by defining the solution\n",
        "- apply this solution onn the data\n",
        "- test the solution to make sure that you have solved the issue"
      ]
    },
    {
      "cell_type": "markdown",
      "metadata": {
        "id": "zR5N-iQTHS6w"
      },
      "source": [
        "**First issue**"
      ]
    },
    {
      "cell_type": "code",
      "metadata": {
        "id": "HZe0WhmqHS6y"
      },
      "source": [
        "#solution \n",
        "#We drop the right type columns to get the columns with type problem\n",
        "df_copy.drop(columns=[\"Country\",\"Region\",\"Population\",\"Area (sq. mi.)\",'GDP ($ per capita)']).columns \n",
        "col_type_to_transform=['Pop. Density (per sq. mi.)', 'Coastline (coast/area ratio)',\n",
        "       'Net migration', 'Infant mortality (per 1000 births)', 'Literacy (%)',\n",
        "       'Phones (per 1000)', 'Arable (%)', 'Crops (%)', 'Other (%)', 'Climate',\n",
        "       'Birthrate', 'Deathrate', 'Agriculture', 'Industry', 'Service']\n"
      ],
      "execution_count": 129,
      "outputs": []
    },
    {
      "cell_type": "code",
      "metadata": {
        "id": "PeETuL5-Zzu-"
      },
      "source": [
        "for col in col_type_to_transform:\n",
        "  df_copy[col]=df_copy[col].astype(str).str.replace(',','.')\n",
        "  df_copy[col]=df_copy[col].astype(\"float64\")"
      ],
      "execution_count": 130,
      "outputs": []
    },
    {
      "cell_type": "code",
      "metadata": {
        "colab": {
          "base_uri": "https://localhost:8080/"
        },
        "id": "Qn9XNUQ6HS6z",
        "outputId": "ff7f15a8-36a7-4880-fa76-d66823de22e7"
      },
      "source": [
        "#test \n",
        "df_copy.info()"
      ],
      "execution_count": 131,
      "outputs": [
        {
          "output_type": "stream",
          "name": "stdout",
          "text": [
            "<class 'pandas.core.frame.DataFrame'>\n",
            "RangeIndex: 227 entries, 0 to 226\n",
            "Data columns (total 20 columns):\n",
            " #   Column                              Non-Null Count  Dtype  \n",
            "---  ------                              --------------  -----  \n",
            " 0   Country                             227 non-null    object \n",
            " 1   Region                              227 non-null    object \n",
            " 2   Population                          227 non-null    int64  \n",
            " 3   Area (sq. mi.)                      227 non-null    int64  \n",
            " 4   Pop. Density (per sq. mi.)          227 non-null    float64\n",
            " 5   Coastline (coast/area ratio)        227 non-null    float64\n",
            " 6   Net migration                       224 non-null    float64\n",
            " 7   Infant mortality (per 1000 births)  224 non-null    float64\n",
            " 8   GDP ($ per capita)                  226 non-null    float64\n",
            " 9   Literacy (%)                        209 non-null    float64\n",
            " 10  Phones (per 1000)                   223 non-null    float64\n",
            " 11  Arable (%)                          225 non-null    float64\n",
            " 12  Crops (%)                           225 non-null    float64\n",
            " 13  Other (%)                           225 non-null    float64\n",
            " 14  Climate                             205 non-null    float64\n",
            " 15  Birthrate                           224 non-null    float64\n",
            " 16  Deathrate                           223 non-null    float64\n",
            " 17  Agriculture                         212 non-null    float64\n",
            " 18  Industry                            211 non-null    float64\n",
            " 19  Service                             212 non-null    float64\n",
            "dtypes: float64(16), int64(2), object(2)\n",
            "memory usage: 35.6+ KB\n"
          ]
        }
      ]
    },
    {
      "cell_type": "markdown",
      "metadata": {
        "id": "4yxOFidjHS61"
      },
      "source": [
        "**Second issue**"
      ]
    },
    {
      "cell_type": "code",
      "metadata": {
        "id": "f8SmszF9HS62"
      },
      "source": [
        "#solution \n",
        "df_copy.fillna(df_copy.mean(),inplace=True)"
      ],
      "execution_count": 132,
      "outputs": []
    },
    {
      "cell_type": "code",
      "metadata": {
        "colab": {
          "base_uri": "https://localhost:8080/"
        },
        "id": "ZmZ2LEC7HS63",
        "outputId": "53577565-a21c-495a-ae10-5615a06cd0cf"
      },
      "source": [
        "#test \n",
        "round(df_copy.isnull().sum(axis=0)*100/df_copy.shape[0],2)"
      ],
      "execution_count": 133,
      "outputs": [
        {
          "output_type": "execute_result",
          "data": {
            "text/plain": [
              "Country                               0.0\n",
              "Region                                0.0\n",
              "Population                            0.0\n",
              "Area (sq. mi.)                        0.0\n",
              "Pop. Density (per sq. mi.)            0.0\n",
              "Coastline (coast/area ratio)          0.0\n",
              "Net migration                         0.0\n",
              "Infant mortality (per 1000 births)    0.0\n",
              "GDP ($ per capita)                    0.0\n",
              "Literacy (%)                          0.0\n",
              "Phones (per 1000)                     0.0\n",
              "Arable (%)                            0.0\n",
              "Crops (%)                             0.0\n",
              "Other (%)                             0.0\n",
              "Climate                               0.0\n",
              "Birthrate                             0.0\n",
              "Deathrate                             0.0\n",
              "Agriculture                           0.0\n",
              "Industry                              0.0\n",
              "Service                               0.0\n",
              "dtype: float64"
            ]
          },
          "metadata": {},
          "execution_count": 133
        }
      ]
    },
    {
      "cell_type": "markdown",
      "metadata": {
        "id": "SyTRfFZkHS68"
      },
      "source": [
        "## 4. <a name=\"4\">Features transformation</a>\n",
        "(<a href=\"#0\">Go to top</a>)"
      ]
    },
    {
      "cell_type": "markdown",
      "metadata": {
        "id": "dFQEAM0tHS6-"
      },
      "source": [
        "*What is the feature scaling technique that would use and why?* <br>\n",
        "*return to this section again and try another technique and see how that will impact your result*<br>\n",
        "for more details on different methods for scaling check these links\n",
        "- https://scikit-learn.org/stable/modules/preprocessing.html#preprocessing\n",
        "- https://scikit-learn.org/stable/modules/classes.html#module-sklearn.preprocessing\n",
        "- https://www.analyticsvidhya.com/blog/2020/07/types-of-feature-transformation-and-scaling/"
      ]
    },
    {
      "cell_type": "code",
      "metadata": {
        "id": "sGZxNpxgHS6_"
      },
      "source": [
        "from sklearn import preprocessing\n"
      ],
      "execution_count": 147,
      "outputs": []
    },
    {
      "cell_type": "code",
      "metadata": {
        "id": "hY8OF5AnHS7C"
      },
      "source": [
        "df_copy.drop(columns=[\"Country\",\"Region\"],axis=1).columns\n",
        "col_to_scale=['Population', 'Area (sq. mi.)', 'Pop. Density (per sq. mi.)',\n",
        "       'Coastline (coast/area ratio)', 'Net migration',\n",
        "       'Infant mortality (per 1000 births)', 'GDP ($ per capita)',\n",
        "       'Literacy (%)', 'Phones (per 1000)', 'Arable (%)', 'Crops (%)',\n",
        "       'Other (%)', 'Climate', 'Birthrate', 'Deathrate', 'Agriculture',\n",
        "       'Industry', 'Service']\n"
      ],
      "execution_count": 148,
      "outputs": []
    },
    {
      "cell_type": "code",
      "metadata": {
        "id": "rvAUc-40uQqs"
      },
      "source": [
        "scaler = preprocessing.StandardScaler().fit(df_copy[col_to_scale])"
      ],
      "execution_count": 149,
      "outputs": []
    },
    {
      "cell_type": "code",
      "metadata": {
        "id": "C0jyy1Z2uQ-i"
      },
      "source": [
        "df_copy[col_to_scale]=scaler.transform(df_copy[col_to_scale])"
      ],
      "execution_count": 150,
      "outputs": []
    },
    {
      "cell_type": "code",
      "metadata": {
        "id": "waOUV6U521DP"
      },
      "source": [
        "from sklearn.preprocessing import OrdinalEncoder\n",
        "enc = OrdinalEncoder()"
      ],
      "execution_count": 161,
      "outputs": []
    },
    {
      "cell_type": "code",
      "metadata": {
        "colab": {
          "base_uri": "https://localhost:8080/"
        },
        "id": "ACrv3zjH21Zd",
        "outputId": "d4eeb94d-5f4d-4c18-fde0-ddb8891e2031"
      },
      "source": [
        "enc.fit(df_copy[[\"Country\",\"Region\"]])\n"
      ],
      "execution_count": 162,
      "outputs": [
        {
          "output_type": "execute_result",
          "data": {
            "text/plain": [
              "OrdinalEncoder(categories='auto', dtype=<class 'numpy.float64'>)"
            ]
          },
          "metadata": {},
          "execution_count": 162
        }
      ]
    },
    {
      "cell_type": "code",
      "metadata": {
        "id": "7ZJ2RnqF21mk"
      },
      "source": [
        " df_copy[[\"Country\",\"Region\"]]=enc.transform(df_copy[[\"Country\",\"Region\"]])\n"
      ],
      "execution_count": 163,
      "outputs": []
    },
    {
      "cell_type": "markdown",
      "metadata": {
        "id": "rOBe5go_HS7E"
      },
      "source": [
        "## 5. <a name=\"5\">Training and hyperparamter tuning</a>\n",
        "(<a href=\"#0\">Go to top</a>)\n"
      ]
    },
    {
      "cell_type": "markdown",
      "metadata": {
        "id": "HO1C_-hDHS7F"
      },
      "source": [
        "Before we start the training process we need to specify 3 paramters:<br>\n",
        "1- Linkage criteria : The linkage criterion determines the distance between two clusters\n",
        "    - Complete-Linkage Clustering\n",
        "    - Single-Linkage Clustering\n",
        "    - Average-Linkage Clustering\n",
        "    - Centroid Linkage Clustering\n",
        "2- Distance function:\n",
        "    - Euclidean Distance \n",
        "    - Manhattan Distance \n",
        "    - Mahalanobis distance \n",
        "3- Number of clusters\n"
      ]
    },
    {
      "cell_type": "markdown",
      "metadata": {
        "id": "F2v3xW2pHS7G"
      },
      "source": [
        "### *Number of clusters*\n",
        "Use Dendograms to specify the optimum number of clusters\n",
        "- Compare how changing linkage criteria or distance function would affect the optimum number of clusters\n",
        "- you can use silhouette_score or any other evalution method to help you determine the optimum number of clusters\n",
        "https://scikit-learn.org/stable/modules/generated/sklearn.metrics.silhouette_score.html"
      ]
    },
    {
      "cell_type": "code",
      "metadata": {
        "colab": {
          "base_uri": "https://localhost:8080/",
          "height": 849
        },
        "id": "nTlDSmbCHS7H",
        "outputId": "1e164f0f-b780-4a7f-9e46-451fce3656f8"
      },
      "source": [
        "import scipy.cluster.hierarchy as shc\n",
        "\n",
        "plt.figure(figsize=(10, 7))\n",
        "plt.title(\"Counters Dendograms\")\n",
        "fig, axes = plt.subplots(figsize=(30, 10))\n",
        "dend = shc.dendrogram(shc.linkage(y=df_copy ),ax=axes)                                       #fill y with your dataframe\n",
        "                                                                                      #and method with linkage criteria\n",
        "                                                                                      #and metric with distance function"
      ],
      "execution_count": 179,
      "outputs": [
        {
          "output_type": "display_data",
          "data": {
            "image/png": "[encoded data removed]",
            "text/plain": [
              "<Figure size 720x504 with 1 Axes>"
            ]
          },
          "metadata": {
            "needs_background": "light"
          }
        },
        {
          "output_type": "display_data",
          "data": {
            "image/png": "[encoded data removed]",
            "text/plain": [
              "<Figure size 2160x720 with 1 Axes>"
            ]
          },
          "metadata": {
            "needs_background": "light"
          }
        }
      ]
    },
    {
      "cell_type": "code",
      "metadata": {
        "colab": {
          "base_uri": "https://localhost:8080/"
        },
        "id": "V3tWYlmeHS7J",
        "outputId": "4123403c-5cdb-4ecc-856f-aee12294f85d"
      },
      "source": [
        "#training\n",
        "from sklearn.cluster import AgglomerativeClustering\n",
        "clustering = AgglomerativeClustering(n_clusters=7).fit(df_copy)\n",
        "clustering.labels_\n",
        "\n"
      ],
      "execution_count": 182,
      "outputs": [
        {
          "output_type": "execute_result",
          "data": {
            "text/plain": [
              "array([0, 0, 0, 0, 0, 0, 0, 0, 0, 0, 0, 0, 0, 0, 0, 0, 0, 0, 0, 0, 0, 0,\n",
              "       0, 0, 0, 0, 0, 0, 0, 0, 0, 0, 0, 0, 0, 0, 0, 0, 0, 0, 0, 0, 0, 0,\n",
              "       1, 1, 1, 1, 1, 1, 1, 1, 1, 1, 1, 1, 1, 1, 1, 1, 1, 1, 1, 1, 1, 1,\n",
              "       1, 1, 1, 1, 1, 1, 1, 1, 1, 1, 1, 1, 1, 1, 4, 4, 4, 4, 4, 4, 4, 4,\n",
              "       4, 4, 4, 4, 4, 4, 4, 4, 4, 4, 4, 4, 4, 4, 4, 4, 4, 4, 4, 4, 4, 5,\n",
              "       5, 4, 5, 5, 5, 5, 5, 5, 5, 5, 5, 5, 5, 5, 5, 5, 5, 5, 5, 5, 5, 5,\n",
              "       5, 5, 5, 5, 3, 3, 3, 3, 3, 3, 3, 3, 3, 3, 3, 3, 3, 3, 3, 3, 3, 3,\n",
              "       3, 3, 3, 3, 3, 3, 3, 3, 3, 3, 3, 3, 3, 3, 3, 3, 3, 3, 6, 6, 6, 6,\n",
              "       6, 6, 6, 6, 6, 6, 6, 6, 6, 6, 6, 6, 6, 6, 6, 6, 6, 6, 6, 6, 6, 2,\n",
              "       2, 2, 2, 2, 2, 2, 2, 2, 2, 2, 2, 2, 2, 2, 2, 2, 2, 2, 2, 2, 2, 2,\n",
              "       2, 2, 2, 2, 2, 2, 2])"
            ]
          },
          "metadata": {},
          "execution_count": 182
        }
      ]
    },
    {
      "cell_type": "markdown",
      "metadata": {
        "id": "89fV7-8XHS7K"
      },
      "source": [
        "## 6. <a name=\"6\">improvement ideas</a>\n",
        "(<a href=\"#0\">Go to top</a>)"
      ]
    },
    {
      "cell_type": "markdown",
      "metadata": {
        "id": "Xp-5WqAYHS7K"
      },
      "source": [
        "- Try to use PCA to reduce the number of features and compare how this will affect the clustring process\n",
        "- Try to run your code again but with different tranformation technique\n",
        "- Implement gap statistics method and use it as evaluation metric and compare the result with what you did before https://www.datanovia.com/en/lessons/determining-the-optimal-number-of-clusters-3-must-know-methods/#gap-statistic-method "
      ]
    }
  ]
}