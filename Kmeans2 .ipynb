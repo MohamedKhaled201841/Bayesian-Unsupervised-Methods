{
  "nbformat": 4,
  "nbformat_minor": 0,
  "metadata": {
    "kernelspec": {
      "display_name": "Python 3",
      "language": "python",
      "name": "python3"
    },
    "language_info": {
      "codemirror_mode": {
        "name": "ipython",
        "version": 3
      },
      "file_extension": ".py",
      "mimetype": "text/x-python",
      "name": "python",
      "nbconvert_exporter": "python",
      "pygments_lexer": "ipython3",
      "version": "3.8.5"
    },
    "toc": {
      "base_numbering": 1,
      "nav_menu": {},
      "number_sections": true,
      "sideBar": true,
      "skip_h1_title": false,
      "title_cell": "Table of Contents",
      "title_sidebar": "Contents",
      "toc_cell": false,
      "toc_position": {},
      "toc_section_display": true,
      "toc_window_display": false
    },
    "colab": {
      "name": "Kmeans2.ipynb",
      "provenance": []
    }
  },
  "cells": [
    {
      "cell_type": "code",
      "metadata": {
        "id": "1i-jAAyYU9Fy"
      },
      "source": [
        "# K-Means Clustering\n",
        "\n",
        "# Importing the libraries\n",
        "\n",
        "import numpy as np\n",
        "import matplotlib.pyplot as plt\n",
        "import pandas as pd\n",
        "\n"
      ],
      "execution_count": 2,
      "outputs": []
    },
    {
      "cell_type": "code",
      "metadata": {
        "colab": {
          "base_uri": "https://localhost:8080/"
        },
        "id": "TPgoYluLU9F5",
        "outputId": "f8b4ed00-6e0a-4880-d2e4-2627ef18e553"
      },
      "source": [
        "#load any dataset\n",
        "from sklearn.datasets import load_iris\n",
        "iris=load_iris()\n",
        "data = np.c_[iris.data, iris.target]\n",
        "columns = np.append(iris.feature_names, [\"target\"])\n",
        "data=pd.DataFrame(data, columns=columns)\n",
        "data[\"target\"].value_counts()\n",
        "\n"
      ],
      "execution_count": 18,
      "outputs": [
        {
          "output_type": "execute_result",
          "data": {
            "text/plain": [
              "2.0    50\n",
              "1.0    50\n",
              "0.0    50\n",
              "Name: target, dtype: int64"
            ]
          },
          "metadata": {},
          "execution_count": 18
        }
      ]
    },
    {
      "cell_type": "code",
      "metadata": {
        "id": "vOfiRV1WU9F6"
      },
      "source": [
        "#Question1\n",
        "##Slice data remove label\n",
        "X=data.iloc[:,0:4].values\n"
      ],
      "execution_count": 15,
      "outputs": []
    },
    {
      "cell_type": "code",
      "metadata": {
        "colab": {
          "base_uri": "https://localhost:8080/"
        },
        "id": "t7PDyPcaU9F6",
        "outputId": "f5ef999c-e082-4af6-88aa-5a77cd5b1880"
      },
      "source": [
        "# Question2 \n",
        "from sklearn.cluster import KMeans\n",
        "kmeans=KMeans(n_clusters=3)\n",
        "kmeans.fit(X)\n",
        "pd.DataFrame(kmeans.labels_).value_counts()\n"
      ],
      "execution_count": 25,
      "outputs": [
        {
          "output_type": "execute_result",
          "data": {
            "text/plain": [
              "0    62\n",
              "1    50\n",
              "2    38\n",
              "dtype: int64"
            ]
          },
          "metadata": {},
          "execution_count": 25
        }
      ]
    },
    {
      "cell_type": "code",
      "metadata": {
        "colab": {
          "base_uri": "https://localhost:8080/",
          "height": 295
        },
        "id": "W0dB0T8CU9F7",
        "outputId": "db931fd8-492a-47ca-9312-c3e3f0e89a16"
      },
      "source": [
        "# Question3 \n",
        "##Apply Elbow\n",
        "all_inertia=[]\n",
        "for i in range (1,11):\n",
        "  kmeans = KMeans (n_clusters = i, init = 'k-means++', max_iter =300, n_init = 10, random_state = 0)\n",
        "  kmeans.fit(X)\n",
        "  all_inertia.append( kmeans. inertia_)\n",
        "# Plot the graph to visualize the Elbow Method to find the optimal number of cluster\n",
        "plt.plot(range(1,11), all_inertia)\n",
        "plt.title('The Elbow Method')\n",
        "plt.xlabel('Number of clusters')\n",
        "plt.ylabel('inertia')\n",
        "plt.show()\n"
      ],
      "execution_count": 26,
      "outputs": [
        {
          "output_type": "display_data",
          "data": {
            "image/png": "[encoded data removed]",
            "text/plain": [
              "<Figure size 432x288 with 1 Axes>"
            ]
          },
          "metadata": {
            "needs_background": "light"
          }
        }
      ]
    },
    {
      "cell_type": "markdown",
      "metadata": {
        "id": "gz0Ngn2PbZbU"
      },
      "source": [
        "# From elbow plot we see inertia change significantly at K=2 but we know as a prior knowledge that our clusters number is 3 so elbow method is good but an objective one that let you descide the best from your point of view"
      ]
    },
    {
      "cell_type": "code",
      "metadata": {
        "id": "yujGcVaoU9F7"
      },
      "source": [
        ""
      ],
      "execution_count": null,
      "outputs": []
    },
    {
      "cell_type": "code",
      "metadata": {
        "id": "_JT8GwvJU9F8"
      },
      "source": [
        ""
      ],
      "execution_count": null,
      "outputs": []
    }
  ]
}