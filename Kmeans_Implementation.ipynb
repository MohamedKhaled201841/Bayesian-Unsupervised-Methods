{
  "nbformat": 4,
  "nbformat_minor": 0,
  "metadata": {
    "colab": {
      "name": " Kmeans Implementation.ipynb",
      "provenance": []
    },
    "kernelspec": {
      "name": "python3",
      "display_name": "Python 3"
    },
    "language_info": {
      "name": "python"
    }
  },
  "cells": [
    {
      "cell_type": "code",
      "metadata": {
        "id": "7nBqogUb6zYB"
      },
      "source": [
        "import numpy as np\n",
        "from matplotlib import pyplot as plt\n",
        "from scipy.io import loadmat\n",
        "import pandas as pd"
      ],
      "execution_count": 1,
      "outputs": []
    },
    {
      "cell_type": "markdown",
      "metadata": {
        "id": "mLQlsis77GHC"
      },
      "source": [
        "# convert matlab file to pandas dataframe then convert it to numpy array"
      ]
    },
    {
      "cell_type": "code",
      "metadata": {
        "id": "yOrRS-c37Dkb"
      },
      "source": [
        "data = loadmat('datafile.mat')\n",
        "# data=data.values()\n",
        "for i in data:\n",
        "  if '__' not in i and 'readme' not in i:\n",
        "              np.savetxt((\"file.csv\"),data[i],delimiter=',')\n",
        "data=pd.read_csv(\"/content/file.csv\",names=[\"x\",\"y\"])\n",
        "data=data.to_numpy()"
      ],
      "execution_count": 3,
      "outputs": []
    },
    {
      "cell_type": "code",
      "metadata": {
        "colab": {
          "base_uri": "https://localhost:8080/",
          "height": 284
        },
        "id": "P7kt34L97ONv",
        "outputId": "ad786631-1b2c-4b64-9b67-6f3bd34d4987"
      },
      "source": [
        "\n",
        "# Number of clusters\n",
        "k = 3\n",
        "# Number of training data\n",
        "n = data.shape[0]\n",
        "# Number of features in the data\n",
        "c = data.shape[1]\n",
        "\n",
        "# Generate random centers, here we use sigma and mean to ensure it represent the whole data\n",
        "mean = np.mean(data, axis = 0)\n",
        "std = np.std(data, axis = 0)\n",
        "np.random.seed(160)\n",
        "centers = np.random.randn(k,c)*std + mean\n",
        "\n",
        "# Plot the data and the centers generated as random\n",
        "plt.scatter(data[:,0], data[:,1], s=7)\n",
        "plt.scatter(centers[:,0], centers[:,1], marker='*', c='g', s=150)"
      ],
      "execution_count": 4,
      "outputs": [
        {
          "output_type": "execute_result",
          "data": {
            "text/plain": [
              "<matplotlib.collections.PathCollection at 0x7f3a8bee3d10>"
            ]
          },
          "metadata": {},
          "execution_count": 4
        },
        {
          "output_type": "display_data",
          "data": {
            "image/png": "[encoded data removed]",
            "text/plain": [
              "<Figure size 432x288 with 1 Axes>"
            ]
          },
          "metadata": {
            "needs_background": "light"
          }
        }
      ]
    },
    {
      "cell_type": "code",
      "metadata": {
        "colab": {
          "base_uri": "https://localhost:8080/"
        },
        "id": "pzQ4F95Z7byo",
        "outputId": "4eadcc5b-1e18-4645-9b91-cb6b6a64877d"
      },
      "source": [
        "centers_old = np.zeros(centers.shape) # to store old centers\n",
        "centers_new = centers# Store new centers\n",
        "\n",
        "data.shape\n",
        "clusters = np.zeros(n)\n",
        "distances = np.zeros((n,k))\n",
        "\n",
        "error = np.linalg.norm(centers_new - centers_old)\n",
        "\n",
        "# When, after an update, the estimate of that center stays the same, exit loop\n",
        "while error != 0:\n",
        "    # Measure the distance to every center\n",
        "    for i in range(k):\n",
        "        distances[:,i] = np.linalg.norm(data - centers[i], axis=1)\n",
        "    # Assign all training data to closest center\n",
        "    clusters = np.argmin(distances, axis = 1)\n",
        "    \n",
        "    centers_old = centers_new\n",
        "    # Calculate mean for every cluster and update the center\n",
        "    for i in range(k):\n",
        "        centers_new[i] = np.mean(data[clusters == i], axis=0)\n",
        "    error = np.linalg.norm(centers_new - centers_old)\n",
        "centers_new  "
      ],
      "execution_count": 5,
      "outputs": [
        {
          "output_type": "execute_result",
          "data": {
            "text/plain": [
              "array([[2.15417853, 4.8700147 ],\n",
              "       [3.00748649, 0.98785953],\n",
              "       [6.13908946, 2.94936779]])"
            ]
          },
          "metadata": {},
          "execution_count": 5
        }
      ]
    },
    {
      "cell_type": "code",
      "metadata": {
        "colab": {
          "base_uri": "https://localhost:8080/",
          "height": 284
        },
        "id": "U137n3Qr7f6X",
        "outputId": "f7fc464d-0120-436e-aaf7-fc0ff7a0bcfc"
      },
      "source": [
        "# Plot the data and the centers generated as random\n",
        "plt.scatter(data[:,0], data[:,1], s=7)\n",
        "plt.scatter(centers_new[:,0], centers_new[:,1], marker='*', c='g', s=150)"
      ],
      "execution_count": 6,
      "outputs": [
        {
          "output_type": "execute_result",
          "data": {
            "text/plain": [
              "<matplotlib.collections.PathCollection at 0x7f3a8b9a1f50>"
            ]
          },
          "metadata": {},
          "execution_count": 6
        },
        {
          "output_type": "display_data",
          "data": {
            "image/png": "[encoded data removed]",
            "text/plain": [
              "<Figure size 432x288 with 1 Axes>"
            ]
          },
          "metadata": {
            "needs_background": "light"
          }
        }
      ]
    },
    {
      "cell_type": "code",
      "metadata": {
        "id": "cSHNPoOS7iaw"
      },
      "source": [
        ""
      ],
      "execution_count": null,
      "outputs": []
    }
  ]
}